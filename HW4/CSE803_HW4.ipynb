{
 "cells": [
  {
   "cell_type": "code",
   "execution_count": 5,
   "id": "56db0453",
   "metadata": {},
   "outputs": [],
   "source": [
    "import starter_code\n",
    "from starter_code import *"
   ]
  },
  {
   "cell_type": "code",
   "execution_count": null,
   "id": "464b15d3",
   "metadata": {},
   "outputs": [],
   "source": [
    "\"\"\"\n",
    "Q1: Optimization and Fitting\n",
    "\"\"\""
   ]
  }
 ],
 "metadata": {
  "kernelspec": {
   "display_name": "Python 3 (ipykernel)",
   "language": "python",
   "name": "python3"
  },
  "language_info": {
   "codemirror_mode": {
    "name": "ipython",
    "version": 3
   },
   "file_extension": ".py",
   "mimetype": "text/x-python",
   "name": "python",
   "nbconvert_exporter": "python",
   "pygments_lexer": "ipython3",
   "version": "3.12.3"
  }
 },
 "nbformat": 4,
 "nbformat_minor": 5
}
