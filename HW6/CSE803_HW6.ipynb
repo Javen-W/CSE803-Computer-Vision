{
 "cells": [
  {
   "cell_type": "code",
   "execution_count": 2,
   "id": "f15bcc5b",
   "metadata": {},
   "outputs": [
    {
     "name": "stdout",
     "output_type": "stream",
     "text": [
      "Jupyter environment detected. Enabling Open3D WebVisualizer.\n",
      "[Open3D INFO] WebRTC GUI backend enabled.\n",
      "[Open3D INFO] WebRTCWindowSystem: HTTP handshake server disabled.\n"
     ]
    }
   ],
   "source": [
    "import cv2\n",
    "import numpy as np\n",
    "from matplotlib import pyplot as plt\n",
    "import open3d"
   ]
  },
  {
   "cell_type": "code",
   "execution_count": 3,
   "id": "b6e916c7",
   "metadata": {},
   "outputs": [],
   "source": [
    "def drawlines(img1, img2, lines, pts1, pts2):\n",
    "    r, c = img1.shape\n",
    "    img1 = cv2.cvtColor(img1, cv2.COLOR_GRAY2BGR)\n",
    "    img2 = cv2.cvtColor(img2, cv2.COLOR_GRAY2BGR)\n",
    "    for r, pt1, pt2 in zip(lines, pts1, pts2):\n",
    "        color = tuple(np.random.randint(0, 255, 3).tolist())\n",
    "        x0, y0 = map(int, [0, -r[2]/r[1]])\n",
    "        x1, y1 = map(int, [c, -(r[2]+r[0]*c)/r[1]])\n",
    "        img1 = cv2.line(img1, (x0, y0), (x1, y1), color, 1)\n",
    "        img1 = cv2.circle(img1, tuple(pt1), 5, color, -1)\n",
    "        img2 = cv2.circle(img2, tuple(pt2), 5, color, -1)\n",
    "    return img1, img2\n",
    "\n",
    "\n",
    "def draw_epipolar(img1, img2, F, pts1, pts2):\n",
    "    lines1 = cv2.computeCorrespondEpilines(pts2.reshape(-1, 1, 2), 2, F)\n",
    "    lines1 = lines1.reshape(-1, 3)\n",
    "    img5, img6 = drawlines(img1, img2, lines1, pts1, pts2)\n",
    "\n",
    "    lines2 = cv2.computeCorrespondEpilines(pts1.reshape(-1, 1, 2), 1, F)\n",
    "    lines2 = lines2.reshape(-1, 3)\n",
    "    img3, img4 = drawlines(img2, img1, lines2, pts2, pts1)\n",
    "\n",
    "    plt.subplot(121)\n",
    "    plt.imshow(img5)\n",
    "    plt.subplot(122)\n",
    "    plt.imshow(img3)\n",
    "    plt.show()\n",
    "\n",
    "\n",
    "def visualize_pcd(points):\n",
    "    \"\"\"\n",
    "    Visualize the point cloud.\n",
    "    \"\"\"\n",
    "    pcd = open3d.PointCloud()\n",
    "    pcd.points = open3d.Vector3dVector(points)\n",
    "    # Uncommend this line if you want to paint some color\n",
    "    # pcd.paint_uniform_color([0, 0, 1])\n",
    "    open3d.draw_geometries([pcd])"
   ]
  },
  {
   "cell_type": "code",
   "execution_count": null,
   "id": "0583749c",
   "metadata": {},
   "outputs": [],
   "source": []
  }
 ],
 "metadata": {
  "kernelspec": {
   "display_name": "Python 3 (ipykernel)",
   "language": "python",
   "name": "python3"
  },
  "language_info": {
   "codemirror_mode": {
    "name": "ipython",
    "version": 3
   },
   "file_extension": ".py",
   "mimetype": "text/x-python",
   "name": "python",
   "nbconvert_exporter": "python",
   "pygments_lexer": "ipython3",
   "version": "3.10.9"
  }
 },
 "nbformat": 4,
 "nbformat_minor": 5
}
