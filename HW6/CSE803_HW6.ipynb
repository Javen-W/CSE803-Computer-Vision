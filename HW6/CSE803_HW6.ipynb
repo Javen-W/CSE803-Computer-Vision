{
 "cells": [
  {
   "cell_type": "code",
   "execution_count": 2,
   "id": "f15bcc5b",
   "metadata": {},
   "outputs": [
    {
     "name": "stdout",
     "output_type": "stream",
     "text": [
      "Jupyter environment detected. Enabling Open3D WebVisualizer.\n",
      "[Open3D INFO] WebRTC GUI backend enabled.\n",
      "[Open3D INFO] WebRTCWindowSystem: HTTP handshake server disabled.\n"
     ]
    }
   ],
   "source": [
    "import cv2\n",
    "import numpy as np\n",
    "from matplotlib import pyplot as plt\n",
    "import open3d"
   ]
  },
  {
   "cell_type": "code",
   "execution_count": 3,
   "id": "b6e916c7",
   "metadata": {},
   "outputs": [],
   "source": [
    "def drawlines(img1, img2, lines, pts1, pts2):\n",
    "    r, c = img1.shape\n",
    "    img1 = cv2.cvtColor(img1, cv2.COLOR_GRAY2BGR)\n",
    "    img2 = cv2.cvtColor(img2, cv2.COLOR_GRAY2BGR)\n",
    "    for r, pt1, pt2 in zip(lines, pts1, pts2):\n",
    "        color = tuple(np.random.randint(0, 255, 3).tolist())\n",
    "        x0, y0 = map(int, [0, -r[2]/r[1]])\n",
    "        x1, y1 = map(int, [c, -(r[2]+r[0]*c)/r[1]])\n",
    "        img1 = cv2.line(img1, (x0, y0), (x1, y1), color, 1)\n",
    "        img1 = cv2.circle(img1, tuple(pt1), 5, color, -1)\n",
    "        img2 = cv2.circle(img2, tuple(pt2), 5, color, -1)\n",
    "    return img1, img2\n",
    "\n",
    "\n",
    "def draw_epipolar(img1, img2, F, pts1, pts2):\n",
    "    lines1 = cv2.computeCorrespondEpilines(pts2.reshape(-1, 1, 2), 2, F)\n",
    "    lines1 = lines1.reshape(-1, 3)\n",
    "    img5, img6 = drawlines(img1, img2, lines1, pts1, pts2)\n",
    "\n",
    "    lines2 = cv2.computeCorrespondEpilines(pts1.reshape(-1, 1, 2), 1, F)\n",
    "    lines2 = lines2.reshape(-1, 3)\n",
    "    img3, img4 = drawlines(img2, img1, lines2, pts2, pts1)\n",
    "\n",
    "    plt.subplot(121)\n",
    "    plt.imshow(img5)\n",
    "    plt.subplot(122)\n",
    "    plt.imshow(img3)\n",
    "    plt.show()\n",
    "\n",
    "\n",
    "def visualize_pcd(points):\n",
    "    \"\"\"\n",
    "    Visualize the point cloud.\n",
    "    \"\"\"\n",
    "    pcd = open3d.PointCloud()\n",
    "    pcd.points = open3d.Vector3dVector(points)\n",
    "    # Uncommend this line if you want to paint some color\n",
    "    # pcd.paint_uniform_color([0, 0, 1])\n",
    "    open3d.draw_geometries([pcd])"
   ]
  },
  {
   "cell_type": "code",
   "execution_count": 21,
   "id": "6c73674c",
   "metadata": {},
   "outputs": [],
   "source": [
    "def fit_projection(X, Y):    \n",
    "    # build matrix A based on the correspondences\n",
    "    A = []\n",
    "    for i in range(X.shape[0]):\n",
    "        x, y, z = X[i, 0], X[i, 1], X[i, 2]\n",
    "        u, v = Y[i, 0], Y[i, 1]\n",
    "        # equation for each correspondence\n",
    "        A.append([x, y, z, 1, 0, 0, 0, 0, -u * x, -u * y, -u * z])\n",
    "        A.append([0, 0, 0, 0, x, y, z, 1, -v * x, -v * y, -v * z])\n",
    "        \n",
    "    A = np.array(A)\n",
    "    \n",
    "    # solve Ah = 0 using SVD\n",
    "    U, S, V = np.linalg.svd(A)\n",
    "    \n",
    "    # solution h is the smallest singular value of V\n",
    "    h = V[-1, :]\n",
    "    \n",
    "    # build H matrix & normalization\n",
    "    h = np.append(h, [1])\n",
    "    H = h.reshape(3, 4)\n",
    "    # H = H / H[2, 2]\n",
    "    \n",
    "    return H"
   ]
  },
  {
   "cell_type": "code",
   "execution_count": 22,
   "id": "0583749c",
   "metadata": {},
   "outputs": [
    {
     "name": "stdout",
     "output_type": "stream",
     "text": [
      "(20, 2)\n",
      "(20, 3)\n",
      "(3, 4)\n",
      "\n",
      "P =\n",
      "[[-2.16139798e-02 -1.99419043e-01  7.24945907e-01  7.02678089e-02]\n",
      " [-1.47733446e-02  6.40074852e-02 -2.53073904e-01 -7.28805413e-04]\n",
      " [ 2.58411448e-03 -2.38552804e-01  5.51366021e-01  1.00000000e+00]]\n"
     ]
    }
   ],
   "source": [
    "\"\"\"\n",
    "Q1: Camera Calibration\n",
    "\"\"\"\n",
    "points_2d = np.loadtxt(\"data/pts2d-norm-pic.txt\")\n",
    "print(points_2d.shape)\n",
    "# b = np.append(points_2d, np.ones([points_2d.shape[0], 1], dtype=np.int32), axis=1)\n",
    "# print(b.shape)\n",
    "\n",
    "points_3d = np.loadtxt(\"data/pts3d-norm.txt\")\n",
    "print(points_3d.shape)\n",
    "# A = np.append(points_3d, np.ones([points_3d.shape[0], 1], dtype=np.int32), axis=1)\n",
    "# print(A.shape)\n",
    "\n",
    "# P = A @ np.linalg.inv(A.T @ A) @ A.T\n",
    "P = fit_projection(points_3d, points_2d)\n",
    "print(P.shape)\n",
    "print(f\"\\nP =\\n{P}\")"
   ]
  },
  {
   "cell_type": "code",
   "execution_count": null,
   "id": "7cc77084-ac82-4c94-b646-20b2e8784366",
   "metadata": {},
   "outputs": [],
   "source": []
  }
 ],
 "metadata": {
  "kernelspec": {
   "display_name": "Python 3 (ipykernel)",
   "language": "python",
   "name": "python3"
  },
  "language_info": {
   "codemirror_mode": {
    "name": "ipython",
    "version": 3
   },
   "file_extension": ".py",
   "mimetype": "text/x-python",
   "name": "python",
   "nbconvert_exporter": "python",
   "pygments_lexer": "ipython3",
   "version": "3.10.9"
  }
 },
 "nbformat": 4,
 "nbformat_minor": 5
}
