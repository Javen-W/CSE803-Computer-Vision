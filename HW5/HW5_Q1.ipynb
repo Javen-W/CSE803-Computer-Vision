{
 "cells": [
  {
   "cell_type": "code",
   "execution_count": 1,
   "id": "502a37b0",
   "metadata": {},
   "outputs": [],
   "source": [
    "import numpy as np\n",
    "import matplotlib.pyplot as plt\n",
    "from tqdm import tqdm # Displays a progress bar\n",
    "\n",
    "import torch\n",
    "from torch import nn\n",
    "from torch import optim\n",
    "import torch.nn.functional as F\n",
    "from torchvision import datasets, transforms\n",
    "from torch.utils.data import Dataset, Subset, DataLoader, random_split"
   ]
  },
  {
   "cell_type": "code",
   "execution_count": 3,
   "id": "d29fa789",
   "metadata": {},
   "outputs": [
    {
     "name": "stdout",
     "output_type": "stream",
     "text": [
      "Loading datasets...\n",
      "Downloading http://fashion-mnist.s3-website.eu-central-1.amazonaws.com/train-images-idx3-ubyte.gz\n",
      "Downloading http://fashion-mnist.s3-website.eu-central-1.amazonaws.com/train-images-idx3-ubyte.gz to C:/Users/Admin/Desktop/cse803_hw5\\FashionMNIST\\raw\\train-images-idx3-ubyte.gz\n"
     ]
    },
    {
     "name": "stderr",
     "output_type": "stream",
     "text": [
      "100%|████████████████████████████████████████| 26421880/26421880 [15:58<00:00, 27564.32it/s]\n"
     ]
    },
    {
     "name": "stdout",
     "output_type": "stream",
     "text": [
      "Extracting C:/Users/Admin/Desktop/cse803_hw5\\FashionMNIST\\raw\\train-images-idx3-ubyte.gz to C:/Users/Admin/Desktop/cse803_hw5\\FashionMNIST\\raw\n",
      "\n",
      "Downloading http://fashion-mnist.s3-website.eu-central-1.amazonaws.com/train-labels-idx1-ubyte.gz\n",
      "Downloading http://fashion-mnist.s3-website.eu-central-1.amazonaws.com/train-labels-idx1-ubyte.gz to C:/Users/Admin/Desktop/cse803_hw5\\FashionMNIST\\raw\\train-labels-idx1-ubyte.gz\n"
     ]
    },
    {
     "name": "stderr",
     "output_type": "stream",
     "text": [
      "100%|██████████████████████████████████████████████| 29515/29515 [00:00<00:00, 73563.12it/s]\n"
     ]
    },
    {
     "name": "stdout",
     "output_type": "stream",
     "text": [
      "Extracting C:/Users/Admin/Desktop/cse803_hw5\\FashionMNIST\\raw\\train-labels-idx1-ubyte.gz to C:/Users/Admin/Desktop/cse803_hw5\\FashionMNIST\\raw\n",
      "\n",
      "Downloading http://fashion-mnist.s3-website.eu-central-1.amazonaws.com/t10k-images-idx3-ubyte.gz\n",
      "Downloading http://fashion-mnist.s3-website.eu-central-1.amazonaws.com/t10k-images-idx3-ubyte.gz to C:/Users/Admin/Desktop/cse803_hw5\\FashionMNIST\\raw\\t10k-images-idx3-ubyte.gz\n"
     ]
    },
    {
     "name": "stderr",
     "output_type": "stream",
     "text": [
      "100%|█████████████████████████████████████████| 4422102/4422102 [00:36<00:00, 122735.87it/s]\n"
     ]
    },
    {
     "name": "stdout",
     "output_type": "stream",
     "text": [
      "Extracting C:/Users/Admin/Desktop/cse803_hw5\\FashionMNIST\\raw\\t10k-images-idx3-ubyte.gz to C:/Users/Admin/Desktop/cse803_hw5\\FashionMNIST\\raw\n",
      "\n",
      "Downloading http://fashion-mnist.s3-website.eu-central-1.amazonaws.com/t10k-labels-idx1-ubyte.gz\n",
      "Downloading http://fashion-mnist.s3-website.eu-central-1.amazonaws.com/t10k-labels-idx1-ubyte.gz to C:/Users/Admin/Desktop/cse803_hw5\\FashionMNIST\\raw\\t10k-labels-idx1-ubyte.gz\n"
     ]
    },
    {
     "name": "stderr",
     "output_type": "stream",
     "text": [
      "100%|███████████████████████████████████████████████████████████| 5148/5148 [00:00<?, ?it/s]"
     ]
    },
    {
     "name": "stdout",
     "output_type": "stream",
     "text": [
      "Extracting C:/Users/Admin/Desktop/cse803_hw5\\FashionMNIST\\raw\\t10k-labels-idx1-ubyte.gz to C:/Users/Admin/Desktop/cse803_hw5\\FashionMNIST\\raw\n",
      "\n",
      "Done!\n"
     ]
    },
    {
     "name": "stderr",
     "output_type": "stream",
     "text": [
      "\n"
     ]
    }
   ],
   "source": [
    "# Load the dataset and train, val, test splits\n",
    "print(\"Loading datasets...\")\n",
    "dataset_path = \"C:/Users/Admin/Desktop/cse803_hw5\"\n",
    "\n",
    "FASHION_transform = transforms.Compose([\n",
    "    transforms.ToTensor(), # Transform from [0,255] uint8 to [0,1] float\n",
    "    transforms.Normalize([0.2859], [0.3530]) # Normalize to zero mean and unit variance\n",
    "])\n",
    "FASHION_trainval = datasets.FashionMNIST(\n",
    "    dataset_path,\n",
    "    download=True,\n",
    "    train=True,\n",
    "    transform=FASHION_transform\n",
    ")\n",
    "FASHION_train = Subset(FASHION_trainval, range(50000))\n",
    "FASHION_val = Subset(FASHION_trainval, range(50000,60000))\n",
    "FASHION_test = datasets.FashionMNIST(\n",
    "    dataset_path,\n",
    "    download=True,\n",
    "    train=False,\n",
    "    transform=FASHION_transform\n",
    ")\n",
    "print(\"Done!\")\n",
    "\n",
    "# Create dataloaders\n",
    "# TODO: Experiment with different batch sizes\n",
    "trainloader = DataLoader(FASHION_train, batch_size=64, shuffle=True)\n",
    "valloader = DataLoader(FASHION_val, batch_size=64, shuffle=True)\n",
    "testloader = DataLoader(FASHION_test, batch_size=64, shuffle=True)"
   ]
  },
  {
   "cell_type": "code",
   "execution_count": 28,
   "id": "b6aa5df2",
   "metadata": {},
   "outputs": [],
   "source": [
    "\"\"\"\n",
    "Network class.\n",
    "\"\"\"\n",
    "class Network(nn.Module):\n",
    "    def __init__(self):\n",
    "        super().__init__()\n",
    "        # TODO: Design your own network, define layers here.\n",
    "        p_keep = 1.0\n",
    "        k_size = 3\n",
    "        \n",
    "        # convolutional layers\n",
    "        self.layer1 = nn.Sequential(\n",
    "            nn.Conv2d(1, 32, kernel_size=k_size, stride=1, padding=1),\n",
    "            nn.ReLU(),\n",
    "            nn.MaxPool2d(kernel_size=2, stride=2),\n",
    "            nn.Dropout(p=1.0 - p_keep),\n",
    "        )\n",
    "        self.layer2 = nn.Sequential(\n",
    "            nn.Conv2d(32, 64, kernel_size=k_size, stride=1, padding=1),\n",
    "            nn.ReLU(),\n",
    "            nn.MaxPool2d(kernel_size=2, stride=2),\n",
    "            nn.Dropout(p=1.0 - p_keep),\n",
    "        )\n",
    "        self.layer3 = nn.Sequential(\n",
    "            nn.Conv2d(64, 128, kernel_size=3, stride=1, padding=1),\n",
    "            nn.ReLU(),\n",
    "            nn.MaxPool2d(kernel_size=2, stride=2, padding=1),\n",
    "            nn.Dropout(p=1.0 - p_keep),\n",
    "        )\n",
    "        \n",
    "        # linear layers\n",
    "        self.fc1 = nn.Linear(4 * 4 * 128, 625, bias=True)\n",
    "        self.fc2 = nn.Linear(625, 10, bias=True)\n",
    "\n",
    "    def forward(self,x):\n",
    "        # TODO: Design your own network, implement forward pass here\n",
    "        x = self.layer1(x)\n",
    "        x = self.layer2(x)\n",
    "        x = self.layer3(x)\n",
    "        x = x.view(x.size(0), -1)\n",
    "        \n",
    "        relu = nn.ReLU()\n",
    "        x = self.fc1(x)\n",
    "        x = self.fc2(relu(x))\n",
    "        return x"
   ]
  },
  {
   "cell_type": "code",
   "execution_count": 29,
   "id": "7b535916",
   "metadata": {},
   "outputs": [],
   "source": [
    "\"\"\"\n",
    "Hyperparameters.\n",
    "\"\"\"\n",
    "# configure device\n",
    "device = \"cuda\" if torch.cuda.is_available() else \"cpu\"\n",
    "\n",
    "# init model\n",
    "model = Network().to(device)\n",
    "\n",
    "# specify the loss layer\n",
    "criterion = nn.CrossEntropyLoss()\n",
    "\n",
    "# TODO: Modify the line below, experiment with different \n",
    "# optimizers and parameters (such as learning rate)\n",
    "# Specify optimizer and assign trainable parameters to it, \n",
    "# weight_decay is L2 regularization strength\n",
    "optimizer = optim.Adam(\n",
    "    model.parameters(),\n",
    "    lr=0.001,\n",
    "    weight_decay=1e-4\n",
    ")\n",
    "\n",
    "# TODO: choose an appropriate number of training epochs\n",
    "num_epoch = 15"
   ]
  },
  {
   "cell_type": "code",
   "execution_count": 30,
   "id": "94087230",
   "metadata": {},
   "outputs": [],
   "source": [
    "\"\"\"\n",
    "Train & evaluation functions.\n",
    "\"\"\"\n",
    "def train(model, train_loader, val_loader, num_epoch = 10): # Train the model\n",
    "    print(\"Start training...\")\n",
    "    train_losses = []\n",
    "    val_losses = []\n",
    "    \n",
    "    for i in range(num_epoch):\n",
    "        # Set the model to training mode\n",
    "        model.train()\n",
    "        running_loss = []\n",
    "        for batch, label in tqdm(train_loader):\n",
    "            # format data\n",
    "            batch = batch.to(device)\n",
    "            label = label.to(device)\n",
    "            \n",
    "            # Clear gradients from the previous iteration\n",
    "            optimizer.zero_grad()\n",
    "            \n",
    "            # This will call Network.forward() that you implement\n",
    "            pred = model(batch)\n",
    "            \n",
    "            # Calculate the training loss\n",
    "            loss = criterion(pred, label)\n",
    "            running_loss.append(loss.item())\n",
    "            \n",
    "            # Backprop gradients to all tensors in the network\n",
    "            loss.backward()\n",
    "            \n",
    "            # Update trainable weights\n",
    "            optimizer.step()\n",
    "        \n",
    "        # training loss\n",
    "        train_loss = np.mean(running_loss)\n",
    "        train_losses.append(train_loss)\n",
    "        \n",
    "        # validation loss\n",
    "        _, val_loss = evaluate(model, val_loader)\n",
    "        val_losses.append(val_loss)\n",
    "        \n",
    "        # report epoch results\n",
    "        print(f\"Epoch {i+1}: train_loss={train_loss}, val_loss={val_loss}\") # Print the average losses for this epoch\n",
    "    \n",
    "    # finished\n",
    "    print(\"Done!\")\n",
    "    return train_losses, val_losses\n",
    "\n",
    "def evaluate(model, val_loader): # Evaluate accuracy on validation / test set\n",
    "    model.eval() # Set the model to evaluation mode\n",
    "    running_loss = []\n",
    "    correct = 0\n",
    "    with torch.no_grad(): # Do not calculate grident to speed up computation\n",
    "        for batch, label in tqdm(val_loader):\n",
    "            # format data\n",
    "            batch = batch.to(device)\n",
    "            label = label.to(device)\n",
    "            \n",
    "            # make predictions\n",
    "            pred = model(batch)\n",
    "            \n",
    "            # Calculate the validation loss\n",
    "            loss = criterion(pred, label)\n",
    "            running_loss.append(loss.item())\n",
    "            \n",
    "            # calculate batch accuracy\n",
    "            correct += (torch.argmax(pred,dim=1)==label).sum().item()\n",
    "    \n",
    "    # averaged accuracy\n",
    "    acc = correct / len(val_loader.dataset)\n",
    "    \n",
    "    # validation loss\n",
    "    val_loss = np.mean(running_loss)\n",
    "    \n",
    "    # finished\n",
    "    print(\"Evaluation accuracy: {}\".format(acc))\n",
    "    return acc, val_loss"
   ]
  },
  {
   "cell_type": "code",
   "execution_count": null,
   "id": "82cd3036",
   "metadata": {},
   "outputs": [
    {
     "name": "stdout",
     "output_type": "stream",
     "text": [
      "Start training...\n"
     ]
    },
    {
     "name": "stderr",
     "output_type": "stream",
     "text": [
      "  4%|██▎                                                   | 34/782 [00:02<00:56, 13.17it/s]"
     ]
    }
   ],
   "source": [
    "\"\"\"\n",
    "Train and evaluate model.\n",
    "\"\"\"\n",
    "# train\n",
    "train_losses, val_losses = train(model, trainloader, valloader, num_epoch)\n",
    "\n",
    "print(\"Evaluate on test set\")\n",
    "test_acc, test_loss = evaluate(model, testloader)"
   ]
  },
  {
   "cell_type": "code",
   "execution_count": 27,
   "id": "8a22374a",
   "metadata": {},
   "outputs": [
    {
     "name": "stdout",
     "output_type": "stream",
     "text": [
      "[0.439466334107663] [0.3011674018707245]\n"
     ]
    }
   ],
   "source": [
    "\"\"\"\n",
    "Analyze training & evaluation results.\n",
    "\"\"\"\n",
    "print(train_losses, val_losses)"
   ]
  },
  {
   "cell_type": "code",
   "execution_count": null,
   "id": "ca7221a8",
   "metadata": {},
   "outputs": [],
   "source": []
  }
 ],
 "metadata": {
  "kernelspec": {
   "display_name": "Python 3 (ipykernel)",
   "language": "python",
   "name": "python3"
  },
  "language_info": {
   "codemirror_mode": {
    "name": "ipython",
    "version": 3
   },
   "file_extension": ".py",
   "mimetype": "text/x-python",
   "name": "python",
   "nbconvert_exporter": "python",
   "pygments_lexer": "ipython3",
   "version": "3.12.3"
  }
 },
 "nbformat": 4,
 "nbformat_minor": 5
}
